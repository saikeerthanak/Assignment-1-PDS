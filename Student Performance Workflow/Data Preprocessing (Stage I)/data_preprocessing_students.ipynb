{
 "cells": [
  {
   "cell_type": "code",
   "execution_count": 10,
   "id": "f1304e8f",
   "metadata": {},
   "outputs": [],
   "source": [
    "# data_preprocessing.ipynb\n",
    "\n",
    "import pandas as pd\n",
    "\n",
    "# Load the raw data\n",
    "raw_data = pd.read_csv(\"C:\\Desktop\\PDS\\Assignment 1\\Student Performance\\Data Preprocessing\\\\raw_student_data.csv\")\n",
    "\n",
    "# Data cleaning and preprocessing\n",
    "# For example, remove duplicates\n",
    "cleaned_data = raw_data.drop_duplicates()\n",
    "# Calculate average score of each student\n",
    "cleaned_data['average score'] = (cleaned_data['math score']+cleaned_data['reading score']+cleaned_data['writing score'])//3\n",
    "\n",
    "# Save the cleaned data\n",
    "cleaned_data.to_csv(\"cleaned_data.csv\", index=False)\n",
    "\n"
   ]
  },
  {
   "cell_type": "code",
   "execution_count": null,
   "id": "eda826d3",
   "metadata": {},
   "outputs": [],
   "source": []
  },
  {
   "cell_type": "code",
   "execution_count": null,
   "id": "ff773577",
   "metadata": {},
   "outputs": [],
   "source": []
  },
  {
   "cell_type": "code",
   "execution_count": null,
   "id": "166e4a64",
   "metadata": {},
   "outputs": [],
   "source": []
  }
 ],
 "metadata": {
  "kernelspec": {
   "display_name": "Python 3 (ipykernel)",
   "language": "python",
   "name": "python3"
  },
  "language_info": {
   "codemirror_mode": {
    "name": "ipython",
    "version": 3
   },
   "file_extension": ".py",
   "mimetype": "text/x-python",
   "name": "python",
   "nbconvert_exporter": "python",
   "pygments_lexer": "ipython3",
   "version": "3.11.4"
  }
 },
 "nbformat": 4,
 "nbformat_minor": 5
}
