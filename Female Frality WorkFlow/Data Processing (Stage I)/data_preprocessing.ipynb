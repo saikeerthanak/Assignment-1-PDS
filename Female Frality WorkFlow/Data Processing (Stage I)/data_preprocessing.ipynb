{
 "cells": [
  {
   "cell_type": "code",
   "execution_count": 1,
   "id": "f8f04533",
   "metadata": {},
   "outputs": [],
   "source": [
    "# data_preprocessing.ipynb\n",
    "\n",
    "import pandas as pd\n",
    "\n",
    "# Load the raw data\n",
    "raw_data = pd.read_csv(\"raw_data.CSV\")\n",
    "\n",
    "# Data cleaning and preprocessing\n",
    "# For example, remove duplicates\n",
    "cleaned_data = raw_data.drop_duplicates()\n",
    "\n",
    "# Convert grip strength from pounds to kilograms\n",
    "cleaned_data['Grip strength (kg)'] = cleaned_data['Grip strength'] * 0.453592\n",
    "\n",
    "# Save the cleaned data\n",
    "cleaned_data.to_csv(\"cleaned_data.csv\", index=False)\n",
    "\n"
   ]
  },
  {
   "cell_type": "code",
   "execution_count": null,
   "id": "012d26cc",
   "metadata": {},
   "outputs": [],
   "source": []
  },
  {
   "cell_type": "code",
   "execution_count": null,
   "id": "afddcc85",
   "metadata": {},
   "outputs": [],
   "source": []
  },
  {
   "cell_type": "code",
   "execution_count": null,
   "id": "55acd90c",
   "metadata": {},
   "outputs": [],
   "source": []
  },
  {
   "cell_type": "code",
   "execution_count": null,
   "id": "edeac563",
   "metadata": {},
   "outputs": [],
   "source": []
  },
  {
   "cell_type": "code",
   "execution_count": null,
   "id": "f55e9a9d",
   "metadata": {},
   "outputs": [],
   "source": []
  }
 ],
 "metadata": {
  "kernelspec": {
   "display_name": "Python 3 (ipykernel)",
   "language": "python",
   "name": "python3"
  },
  "language_info": {
   "codemirror_mode": {
    "name": "ipython",
    "version": 3
   },
   "file_extension": ".py",
   "mimetype": "text/x-python",
   "name": "python",
   "nbconvert_exporter": "python",
   "pygments_lexer": "ipython3",
   "version": "3.11.4"
  }
 },
 "nbformat": 4,
 "nbformat_minor": 5
}
